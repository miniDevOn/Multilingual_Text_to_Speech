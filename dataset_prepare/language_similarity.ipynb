{
 "cells": [
  {
   "cell_type": "code",
   "execution_count": null,
   "metadata": {},
   "outputs": [],
   "source": [
    "import numpy as np\n",
    "from sklearn.metrics.pairwise import cosine_similarity\n",
    "from sklearn.decomposition import PCA\n",
    "from sklearn.manifold import TSNE\n",
    "from matplotlib import pyplot as plt\n",
    "from matplotlib.colors import ListedColormap"
   ]
  },
  {
   "cell_type": "code",
   "execution_count": null,
   "metadata": {},
   "outputs": [],
   "source": [
    "import nltk\n",
    "from nltk.tokenize import sent_tokenize\n",
    "nltk.download('punkt')"
   ]
  },
  {
   "cell_type": "code",
   "execution_count": null,
   "metadata": {},
   "outputs": [],
   "source": [
    "import torch\n",
    "from pytorch_pretrained_bert import BertTokenizer, BertModel, BertForMaskedLM\n",
    "import matplotlib.pyplot as plt\n",
    "tokenizer = BertTokenizer.from_pretrained('bert-base-uncased')"
   ]
  },
  {
   "cell_type": "code",
   "execution_count": null,
   "metadata": {},
   "outputs": [],
   "source": [
    "model = BertModel.from_pretrained('bert-base-uncased')\n",
    "model.eval()"
   ]
  },
  {
   "cell_type": "code",
   "execution_count": null,
   "metadata": {},
   "outputs": [],
   "source": [
    "russian_sentences = sent_tokenize(\"Так, Борис Джонсон, тогда только претендовавший на пост премьер-министра Великобритании, ответил статьёй «Покинув ЕС 31 октября, мы докажем Путину, что он неправ», где обещал назло Москве и в подтверждение живучести базовой идеологии страны довести Brexit до конца. Тереза Мэй, возглавлявшая тогда британское правительство, отреагировала куда более резко — она назвала слова президента РФ «циничной ложью» и в качестве подтверждения своей точки зрения сравнила качество жизни в Англии, Франции, Германии и России. Председатель Европейского совета Дональд Туск, в свою очередь, заявил, что считает устаревшим не либерализм, а «авторитаризм, культ личности, правление олигархов». Проблема в том, что между РФ и США нет соглашения о выдаче подозреваемых и обвиняемых лиц, так что российскому правосудию приходится рассчитывать на его депортацию. Шанс на это есть, поскольку, как сообщают некоторые СМИ, Билалов был задержан за нарушение миграционного законодательства, а значит, должен быть выдворен на родину. После этого он дал распоряжение отстранить Билалова от всех должностей. Тогдашний вице-премьер Дмитрий Козак даже рассказывал, что опальный чиновник «уже кому-то звонил, оправдывался», однако сам он с ним не разговаривал. Поспешил заработать несколько очков для себя и Сергей Степашин, возглавлявший в то время Счётную палату: он заявил, что именно проверки его ведомства привели к отставкам Билалова. Сразу после критики президента проверку госкорпорации «Курорты Северного Кавказа» начали Генпрокуратура с Росфиннадзором. Среди прочего выяснилось, что в июле 2009 года ОАО «Красная поляна» заключило ряд соглашений с госкорпорацией «Олимпстрой» о финансировании строительства спортивно-туристического комплекса «Горная карусель». В 2011 году компания получила деньги на строительство, однако более миллиарда рублей оказались размещены на вкладах в Национальном банке развития бизнеса, председателем совета директоров которого оказался Магомед Билалов, брат Ахмеда. Потом Магомед получал деньги обратно через аффилированные с ним компании в виде займов под больший процент. Благодаря этой нехитрой комбинации они заработали более 45,5 миллиона рублей. В итоге Ахмеду Билалову и его брату было предъявлено обвинение в злоупотреблении полномочиями. После этого стало известно, что бывший вице-президент ОКР бежал из страны. После этого он всплыл в немецкой клинике, где заявил, что его пытались отравить ртутью российские спецслужбы, однако выжил и, как видим, занесла его жизнь аж в Майами, где он обзавёлся собственной недвижимостью, в которой жил и бед не знал.\")\n",
    "len(russian_sentences)"
   ]
  },
  {
   "cell_type": "code",
   "execution_count": null,
   "metadata": {},
   "outputs": [],
   "source": [
    "english_sentences = sent_tokenize(\"EU leaders have welcomed the fact that on Tuesday - for the first time ever - a Brexit deal did get the nod from the UK parliament but diplomats point out that the reason they are all especially fatigued and frustrated by the one step forward, at least two steps back Brexit political dance in the UK, is because they fully appreciate this is not even nearly the end of the road. In this case, as soon as parliament ratifies the new Brexit deal. But don't expect the EU to deliver its decision in a hurry. EU leaders are openly fed-up with having to interrupt busy schedules to rush to Brussels for more emergency Brexit summits. For example, if the EU refuses a new extension, MPs might well rush to approve the new Brexit deal, rather than face the possibility of no deal. The EU is hardly likely to run that risk though. The answer to these questions will most likely influence the next political events in the UK. Anxious to come across as being as neutral as possible and to avoid becoming entangled in the bitter UK debate, many EU leaders seem to prefer adopting the UK request outlined in the prime minister's letter: a three month Brexit extension lasting until 31 January, to avoid a no deal scenario. The EU diplomat I was speaking to was frustrated. Hugely frustrated that the EU's newly negotiated Brexit deal was now stuck in limbo after Tuesday's votes in the House of Commons. He was irritated too that the prime minister said the next move would be decided in Brussels. Since the Calais migrant camps were shut three years ago and security measures were increased at Dover and the Channel Tunnel, people smugglers have increasingly moved to other routes. The most common one is being hidden in the back of a lorry, but increasingly commercial shipping containers are being used, sometimes even refrigerated ones of the type seen on the back of the truck in Essex.\")\n",
    "len(english_sentences)"
   ]
  },
  {
   "cell_type": "code",
   "execution_count": null,
   "metadata": {},
   "outputs": [],
   "source": [
    "german_sentences = sent_tokenize(\"Die Türkei hatte am 9. Oktober einen - international massiv kritisierten - Feldzug gegen die YPG im Norden Syriens begonnen. Die Türkei betrachtet die YPG, die bislang an der Grenze zur Türkei ein großes Gebiet kontrolliert, als Terrororganisation. Mit der Offensive wollte die Türkei die Kurden aus der Grenzregion vertreiben. Sollte die Kurdenmiliz mit ihren Waffen nicht aus den Gebieten abziehen, würden sich zwar die syrischen Grenzsoldaten und die russische Militärpolizei zurückziehen, sagte Kremlsprecher Dmitri Peskow. Am Dienstagabend hatten sich Russland und die Türkei über einen weiteren Abzug der Kurdenmiliz YPG aus Grenzgebieten geeinigt. In dem Abkommen wurde eine 150-Stunden-Frist (rund sechs Tage) für den Abzug der YPG aus Grenzgebieten gesetzt. Am Mittwoch ab 12.00 Uhr Ortszeit sollten laut der Vereinbarung russische Militärpolizei und syrische Grenzeinheiten dazu eingesetzt werden. Das läuft dann auf eine Waffenruhe hinaus. Dann soll es gemeinsame Patrouillen von Russland und der Türkei geben. Kramp-Karrenbauer erläuterte im Verteidigungsausschuss des Bundestages, dass es für eine Sicherheitszone ein robustes Mandat der Vereinten Nationen geben und es sich um einen UN-Einsatz handeln müsse. Bei einer Aufteilung der Schutzzone nach dem Vorbild des Afghanistan-Einsatzes könnten verschiedene Länder die Hauptverantwortung für eine Zone übernehmen. Es sei zu früh zu sagen, was dies für ein Engagement der Bundeswehr bedeuten könne. Deutschland könnte aber die Verantwortung für eine Zone übernehmen, sagte die CDU-Chefin laut Teilnehmern.\")\n",
    "len(german_sentences)"
   ]
  },
  {
   "cell_type": "code",
   "execution_count": null,
   "metadata": {},
   "outputs": [],
   "source": [
    "spain_sentences = sent_tokenize('La clase política chilena enfrenta uno de los mayores desafíos desde la vuelta de la democracia en 1990 tras el estallido social del pasado jueves, desencadenado por el aumento del precio del metro y alimentado por un más amplio malestar social. En estos días de emergencia, mientras las autoridades intentan dar ciertas señales de unidad para calmar la crisis, no se detiene la protesta, ni la pacífica ni la violenta. Al menos 15 personas han muerto desde que comenzaran los altercados en el país sudamericano. Además, el principal sindicato chileno, la Central Unitaria de Trabajadores (CUT), junto a otras organizaciones ha convocado una huelga general para este miércoles. El Servicio de Inmigración del Reino Unido admitió el pasado abril, en respuesta a un requerimiento de información pública, que durante 2018 la policía detectó la presencia de 1.052 inmigrantes irregulares en los puertos de entrada, y de más de 7.500 que ya habían logrado al interior del pais. Según ha contado a la prensa local el consejero delegado de la Sociedad de Camiones de Carretera (Road Haulage Association), Richard Burnett, el vehículo era un camión frigorífico y añadió que el suceso revela el \"peligro\" de las mafias de inmigración, según informa Efe. Las condiciones en las que se encontraron esas personas fueron \"absolutamente horrendas\", según el responsable de la Sociedad de Camiones de Carretera. Las cámaras frigoríficas \"son oscuras e increíblemente frías y las temperaturas llegan a alcanzar allí los 25 grados bajo cero si transportan productos congelados\", lo que provoca que los humanos \"pierdan la vida bastante rápido\", puntualizó. La policía de Essex (Reino Unido) ha hallado este miércoles por la mañana 39 cadáveres dentro de un camión en una zona industrial de Grays, al este de Londres. Los agentes han detenido al conductor, un norirlandés de 25 años arrestado bajo sospecha de homicidio y a quien están interrogando. La policía ha informado de que al menos hay un adolescente entre los fallecidos. Una de las hipótesis principales es que las víctimas sean inmigrantes que viajaban de manera clandestina. El descubrimiento se ha realizado a la 1.40 de la madrugada en un polígono industrial de Waterglade, en Grays, después de que las autoridades respondieran a un aviso efectuado al servicio de ambulancias. A media mañana, la número dos de la policía de Essex, la comisaria Pippa Mills, ha anticipado a los medios que la investigación se encuentra aún en una \"fase muy preliminar\". No ha querido responder a una de las preguntas clave de los medios convocados: ¿quién había avisado previamente a los servicios de emergencia de ambulancia para que acudieran al polígono industrial? La ministra del Interior, Priti Patel, indicó que las autoridades migratorias del departamento estaban trabajando codo con codo con la policía para determinar qué ha pasado, mientras la Agencia Nacional del Crimen, encargada de investigar a las mafias que trafican con personas, indicó que analizaban si hay grupos organizados relacionados con la tragedia.')\n",
    "len(spain_sentences)"
   ]
  },
  {
   "cell_type": "code",
   "execution_count": null,
   "metadata": {},
   "outputs": [],
   "source": [
    "mozarella_sentences = sent_tokenize(\"Cade il divieto assoluto per gli \\\"ergastolani ostativi\\\" di accedere a permessi premio durante la detenzione. La Corte costituzionale ha dichiarato l'illegittimità costituzionale dell'articolo 4 bis, comma 1, dell'ordinamento penitenziario nella parte in cui non prevede la concessione di permessi premio in assenza di collaborazione con la giustizia, anche se sono stati acquisiti elementi tali da escludere sia l'attualità della partecipazione all'associazione criminale sia, più in generale, il pericolo del ripristino di collegamenti con la criminalità organizzata. Sempre che, ovviamente, spiega Palazzo della Consulta, il condannato abbia dato piena prova di partecipazione al percorso rieducativo. Poi, continua il ministro degli Esteri, \\\"c'è bisogno di poteri speciali per Roma, abbiamo pronto il ddl per attribuire poteri speciali come in tutte le città europee, non è una questione di partito, spero sia sostenuta in maniera bipartisan e spero che il Parlamento possa approvarla entro metà dell'anno prossimo. A scatenare la reazione di Lezzi era stata una dichiarazione di ieri di Spadafora a La7. \\\"Roma e l'amministrazione restano un problema - aveva detto il ministro - un'esperienza alla quale sicuramente potevamo e dovevamo aspettarci molto di più. Non è un problema personale della Raggi. È un progetto politico guidato da Virginia Raggi ma in qualche modo siamo tutti corresponsabili come Movimento 5 Stelle. Ma è stata un'esperienza difficile e faticosa che non ha dato tutto quello che si aspettavano i cittadini. La replica del ministro dello Sport: \\\"Le mie parole di ieri su Roma e i suoi problemi erano molto chiare e non erano un attacco a Virginia Raggi. Pochi possono dire di averla sostenuta quanto me anche quando era più difficile di oggi e tutti tacevano\\\".\")\n",
    "len(mozarella_sentences)"
   ]
  },
  {
   "cell_type": "code",
   "execution_count": null,
   "metadata": {},
   "outputs": [],
   "source": [
    "french_sentences = sent_tokenize(\"En matière de climat, pas une semaine ne passe sans que soient documentées de nouvelles catastrophes à venir ou déjà en cours. Oiseaux de mauvais augure, les scientifiques du climat ? Il serait facile de les croire catastrophistes, tant s’accumulent les rapports inquiétants du GIEC (Groupe d’experts intergouvernemental sur l’évolution du climat). Invité à réagir lors des questions au gouvernement à l’Assemblée nationale, Edouard Philippe avait fait valoir que « tous ceux qui ont l’honneur de servir la France en travaillant au sein d’un cabinet ministériel doivent être, lorsqu’ils font l’objet d’une attaque politique, défendus par le chef du gouvernement ». Mais, a-t-il ajouté, « le chef du gouvernement exige d’eux une parfaite probité et le respect de toutes les règles qui s’imposent à tous ceux qui ont l’honneur de servir la France ». Ancien secrétaire d’Etat italien aux affaires européennes, puis candidat LRM aux élections européennes – élu en 22e position, il ne siégera qu’après le Brexit –, Sandro Gozi était devenu, fin juillet, chargé de mission auprès d’Edouard Philippe pour suivre la mise en place des nouvelles institutions européennes et des relations avec le Parlement européen. Sandro Gozi « a confirmé, comme il l’avait fait, par écrit, au moment de son embauche, en juillet 2019, que son emploi de cabinet à Matignon était exclusif de toute autre activité professionnelle, a fortiori pour un autre gouvernement », a assuré Matignon. Trente-neuf corps ont été découverts dans un camion dans la nuit de mardi 22 à mercredi 23 octobre à Grays, dans l’Essex, à l’est de Londres. Le chauffeur du camion, originaire d’Irlande du Nord et âgé de 25 ans, a été interpellé, a annoncé la police britannique. Selon les autorités locales, le camion immatriculé en Bulgarie est entré dans la nuit de mardi à mercredi vers 00 h 30 (1 h 30, heure française) au Royaume-Uni par le port de Purfleet sur la Tamise, à l’est de Londres, en provenance de Zeebruges, en Belgique. Dans un premier temps, la police avait expliqué que le véhicule était entré dans le pays le 19 octobre via le port de Holyhead, sur la côte ouest de la Grande-Bretagne, qui dessert Dublin. La police a été alertée mercredi vers 1 h 40 par les services de secours, qui ont découvert les victimes, selon le communiqué de la police de l’Essex. Le chauffeur du camion a été placé en garde à vue, a-t-il ajouté. Un dispositif de sécurité a été mis en place et les accès de la zone industrielle de Waterglade, où le camion a été découvert, ont été fermés. Le ministère de l’intérieur britannique a assuré collaborer avec la police pour établir les circonstances de ce drame. Nombre de migrants tentent de rejoindre le Royaume-Uni ces dernières années en se cachant dans des remorques de camion ou par des embarcations traversant la Manche.\")\n",
    "len(french_sentences)"
   ]
  },
  {
   "cell_type": "code",
   "execution_count": null,
   "metadata": {},
   "outputs": [],
   "source": [
    "polish_sentences = sent_tokenize(\"Ciężarówka była zaparkowana na terenie magazynów parku przemysłowego Waterglade w miejscowości Grays (hrabstwo Essex, Wielka Brytania). W jej naczepie znajdowało się 39 ciał. Wśród nich jest jeden nastolatek, pozostałe ofiary to osoby dorosłe. Na razie nie wiadomo, kim były. - Ich identyfikacja jest obecnie naszym priorytetem - mówi Pippa Mills z lokalnej policji. Początkowo wydawało się, że ciężarówka przyjechała z Bułgarii. To dlatego. że pojazd ma bułgarskie tablice rejestracyjne. Premier Bułgarii Bojko Borisow potwierdził, że ciężarówka została zerejestrowana w jego kraju w 2017 roku, ale bardzo szybko wyjechała z Bułgarii i nigdy już tam nie powróciła. - Ciężarówka została zarejestrowana w Bułgarii w 2017 roku przez Irlandkę. Następnie auto opuściło kraj i nigdy nie wróciło. Dlatego nie mamy związku z tym zdarzeniem, z wyjątkiem tablic rejestracyjnych ciężarówki - powiedział Borisow w rozmowie z prywatną telewizją BTV, którą przywołuje agencja Reuters. Jak informuje Rafał Łysy, rzecznik prasowy Wojewódzkiego Szpitala Specjalistycznego nr 5 im. Św. Barbary w Sosnowcu, zmarł ciężej poszkodowany saper, który w wyniku wybuchu pocisków doznał rozległych obrażeń. Najważniejszy wspólny cel państw europejskich to budowanie strefy bezpieczeństwa i dobrobytu – stwierdził Szymański, były europoseł, który w MSZ odpowiada za politykę europejską. Przemawiając na inaugurację seminarium „Europa czasu przemian”, zorganizowanego przez resort spraw zagranicznych i Polski Instytut Ekonomiczny, nazwał potężnym błędem niedawną decyzję UE o nierozpoczynaniu negocjacji akcesyjnych z Macedonią Północną i Albanią, głównie z powodu oporu Francji.\")\n",
    "len(polish_sentences)"
   ]
  },
  {
   "cell_type": "code",
   "execution_count": null,
   "metadata": {},
   "outputs": [],
   "source": [
    "ukrainian_sentences = sent_tokenize(\"По информации ресурса, такие показатели являются опасными для здоровья людей. Среди лидеров загрязненного воздуха в Киеве также Минский массив в Оболонском районе (156 единиц), бульвар Перова (145 единиц) и массив Радужный (122 единицы) в Днепровском районе. Норма общего индекса загрязнения составляет от 0 до 50 единиц. Возглавляют рейтинг самых загрязненных городов Дакка (Бангладеш) с показателем в 231 единицу, Лахор (Пакистан) – 203 и Дели (Индия) – 190. Впрочем, рейтинг регулярно обновляется. Ближе к вечеру Киев спустился в рейтинге на 15 место, а цифры стали не такими пугающими. Они зависят от загруженности города транспортом и от времени суток. Кстати, судя по карте ресурса, загрязнение воздуха в городах соседней Польши превышают данные по Киеву. Управление специальных расследований в составе Генпрокуратуры создавалось как единый центр по расследованию всех преступлений, совершенных в период протестных акций в Украине. Среди его основных задач – изучение обстоятельств узурпации власти и всего комплекса преступных действий, совершенных в период правления Януковича. Первоочередная задача деятельности управления – расследование массовых убийств участников мирных акций протеста 18-20 февраля 2014. Отметим, по официальным данным украинских правоохранителей, в период 19-22 февраля 2014 года на Майдане Незалежности и в центре Киева погибли 78 активистов, 278 активистов получили тяжелые и средней тяжести телесные повреждения. Всего пострадали более двух тысяч человек. В ноябре 2018-го было пять лет трагедии на Майдане. Читайте подробней о том, кого наказали и что говорят политики, а также какого прогресса в расследовании расстрела майдановцев добились силовики. Ранее стало известно, что Генеральная прокуратура Украины уволила трех следователей управления специальных расследований, которое занимается расследованием дел Майдана, – Юрия Безщасного, Андрея Демьяненко и Виталия Тарасюка из-за того, что следователи якобы подали заявления о согласии на переаттестацию в произвольной форме, поскольку не соглашались с новой формой.\")\n",
    "len(ukrainian_sentences)"
   ]
  },
  {
   "cell_type": "code",
   "execution_count": null,
   "metadata": {},
   "outputs": [],
   "source": [
    "czech_sentences = sent_tokenize(\"Konec sankcí americký prezident oznámil v den, kdy se před ženevským sídlem UNHCR zapálil syrský Kurd. Podle mluvčí UNHCR Liz Throssellové je muž naživu a byl převezen do nemocnice. Prezident Miloš Zeman podpořil stanovisko Sněmovny, která před týdnem odsoudila tureckou invazi do Kurdy obývané oblasti Sýrie. Turecko se podle něj dopustilo válečných zločinů. Syrští kurdští bojovníci v úterý sdělili americké vládě, že se zcela stáhli z oblasti na severu Sýrie, kde Turecko požaduje zřízení bezpečnostní zóny. S odvoláním na nejmenovaného činitele ve Washingtonu o tom informovala agentura AFP. Později stažení kurdských milic potvrdil také kurdský zdroj. V průmyslovém parku Waterglade ve městě Grays vzdáleném 40 km od Londýna bylo v prostoru nákladního vozu nalezeno 39 mrtvých lidí. Pětadvacetiletý řidič ze Severního Irska byl zatčen pro podezření z vraždy. Úřady nařídily pitvy těl. Podle prohlášení britské policie kamion vyjížděl z Belgie, registrován byl pod bulharskou SPZ. Kamion zřejmě objevili záchranáři v časných středečních hodinách. Ve svém prohlášení záchranáři uvedli, že na místo vyslali pět sanitek v reakci na telefonát. „Všech 39 lidí bohužel zemřelo před naším příjezdem,“ dodali. Není jasné, kdo varoval personál sanitky.\")\n",
    "len(czech_sentences)"
   ]
  },
  {
   "cell_type": "code",
   "execution_count": null,
   "metadata": {},
   "outputs": [],
   "source": [
    "texts = {'en':english_sentences,\n",
    "         'de':german_sentences,\n",
    "         'ru':russian_sentences,\n",
    "         'ua':ukrainian_sentences,\n",
    "         'fr':french_sentences,\n",
    "         'es':spain_sentences,\n",
    "         'it':mozarella_sentences,\n",
    "         'pl':polish_sentences,\n",
    "         'cs':czech_sentences}"
   ]
  },
  {
   "cell_type": "code",
   "execution_count": null,
   "metadata": {},
   "outputs": [],
   "source": [
    "inputs = {}\n",
    "for l in texts.keys():\n",
    "    tokens = [tokenizer.tokenize(\"[CLS] \"+ t +\" [SEP]\") for t in texts[l]]\n",
    "    indexes = [tokenizer.convert_tokens_to_ids(t) for t in tokens]\n",
    "    segments = [[1] * len(t) for t in tokens]   \n",
    "    inputs[l] = [(torch.tensor([a]), torch.tensor([b])) for a, b in list(zip(indexes, segments))]"
   ]
  },
  {
   "cell_type": "code",
   "execution_count": null,
   "metadata": {},
   "outputs": [],
   "source": [
    "encoded_layers = {}\n",
    "with torch.no_grad():\n",
    "    for l in inputs.keys():\n",
    "        el = []\n",
    "        for t, s in inputs[l]:\n",
    "            e, _ = model(t, s)\n",
    "            el.append(e)\n",
    "        encoded_layers[l] = el"
   ]
  },
  {
   "cell_type": "code",
   "execution_count": null,
   "metadata": {},
   "outputs": [],
   "source": [
    "# SHAPE: layers, languages, sentences (tensor with features)\n",
    "sentence_embeddings = []\n",
    "# for each layer\n",
    "for i in range(12):\n",
    "    sse = []\n",
    "    # for each language\n",
    "    for l in encoded_layers.keys():\n",
    "        se = []\n",
    "        for el in encoded_layers[l]:\n",
    "            se.append(torch.mean(el[i], 1).squeeze(0).numpy())\n",
    "        sse.append(se)\n",
    "    sentence_embeddings.append(sse) "
   ]
  },
  {
   "cell_type": "code",
   "execution_count": null,
   "metadata": {},
   "outputs": [],
   "source": [
    "layer_embeddings = []\n",
    "for layer in sentence_embeddings:\n",
    "    layer_embeddings.append([x for languages in layer for x in languages])"
   ]
  },
  {
   "cell_type": "code",
   "execution_count": null,
   "metadata": {},
   "outputs": [],
   "source": [
    "pca_embeddings = [PCA(n_components=2).fit_transform(np.array(layer)) for layer in layer_embeddings]\n",
    "sna_embeddings = [TSNE(n_components=2).fit_transform(np.array(layer)) for layer in layer_embeddings]"
   ]
  },
  {
   "cell_type": "code",
   "execution_count": null,
   "metadata": {},
   "outputs": [],
   "source": [
    "language_colors = [i for i, languages in enumerate(layer) for x in languages]"
   ]
  },
  {
   "cell_type": "code",
   "execution_count": null,
   "metadata": {},
   "outputs": [],
   "source": [
    "fig = plt.figure(figsize=(19, 25))\n",
    "for i, e in enumerate(sna_embeddings):\n",
    "    ax = plt.subplot(4, 3, i + 1)   \n",
    "    plt.scatter(e[:, 0], e[:, 1], c=language_colors, cmap=ListedColormap([\"black\", \"blue\", \"red\", \"orange\", \"pink\", \"yellow\", \"green\", \"gray\", \"violet\"]), marker='o', alpha=0.7, s=50)\n",
    "    ax.set_title(f'pool_layer={i + 1}')\n",
    "plt.tight_layout()\n",
    "plt.subplots_adjust(bottom=0.1, right=0.95, top=0.9)\n",
    "cax = plt.axes([0.96, 0.6, 0.02, 0.3])\n",
    "cbar = plt.colorbar(cax=cax, ticks=range(len(texts)))\n",
    "\n",
    "cbar.ax.get_yaxis().set_ticks([])\n",
    "for j, lab in enumerate(texts.keys()):\n",
    "    cbar.ax.text(4.25, (2 * j + 1) / 2.25, lab, ha='center', va='center', fontsize=15)\n",
    "\n",
    "plt.show()  "
   ]
  },
  {
   "cell_type": "code",
   "execution_count": null,
   "metadata": {},
   "outputs": [],
   "source": [
    "pca_embeddings = PCA(n_components=8).fit_transform(np.array(layer_embeddings[10]))\n",
    "sna_embeddings = TSNE(n_components=3).fit_transform(np.array(layer_embeddings[10]))"
   ]
  },
  {
   "cell_type": "code",
   "execution_count": null,
   "metadata": {},
   "outputs": [],
   "source": [
    "average_embeddings = []\n",
    "for i in range(len(texts.keys())):\n",
    "    average_embeddings.append(np.mean(sna_embeddings[np.array(language_colors) == i], axis=0))"
   ]
  },
  {
   "cell_type": "code",
   "execution_count": null,
   "metadata": {},
   "outputs": [],
   "source": [
    "similarity = cosine_similarity(average_embeddings)\n",
    "for i in range(len(texts.keys())):\n",
    "    similarity[i,i:] = -0.5"
   ]
  },
  {
   "cell_type": "code",
   "execution_count": null,
   "metadata": {},
   "outputs": [],
   "source": [
    "fig = plt.figure(figsize=(6, 6))\n",
    "ax = fig.add_subplot(111)\n",
    "cax = ax.matshow(similarity, interpolation='nearest')\n",
    "fig.colorbar(cax)\n",
    "#plt.xticks(range(len(list(texts.keys()))+1), list(texts.keys()))\n",
    "#plt.yticks(range(len(list(texts.keys()))+1), list(texts.keys()))\n",
    "ax.set_xticks(np.arange(-.0, 9, 1))\n",
    "ax.set_yticks(np.arange(0.5, 9, 1))\n",
    "ax.set_xticklabels(list(texts.keys()))\n",
    "ax.set_yticklabels(list(texts.keys()))\n",
    "plt.show()"
   ]
  },
  {
   "cell_type": "code",
   "execution_count": null,
   "metadata": {},
   "outputs": [],
   "source": [
    "similarity"
   ]
  }
 ],
 "metadata": {
  "kernelspec": {
   "display_name": "Python 3",
   "language": "python",
   "name": "python3"
  },
  "language_info": {
   "codemirror_mode": {
    "name": "ipython",
    "version": 3
   },
   "file_extension": ".py",
   "mimetype": "text/x-python",
   "name": "python",
   "nbconvert_exporter": "python",
   "pygments_lexer": "ipython3",
   "version": "3.6.8"
  }
 },
 "nbformat": 4,
 "nbformat_minor": 2
}
